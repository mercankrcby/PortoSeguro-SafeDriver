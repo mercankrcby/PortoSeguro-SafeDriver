{
 "cells": [
  {
   "cell_type": "markdown",
   "metadata": {},
   "source": [
    "## Porto Seguro Dataset - Data Analysis"
   ]
  },
  {
   "cell_type": "markdown",
   "metadata": {},
   "source": [
    "The fact that the Porto Seguro competition is a binary classification task (the customer filed a claim or did not)"
   ]
  },
  {
   "cell_type": "markdown",
   "metadata": {},
   "source": [
    "****Install Used Libraries****"
   ]
  },
  {
   "cell_type": "code",
   "execution_count": 2,
   "metadata": {
    "collapsed": true
   },
   "outputs": [
    {
     "name": "stdout",
     "output_type": "stream",
     "text": [
      "package 'tidyverse' successfully unpacked and MD5 sums checked\n",
      "\n",
      "The downloaded binary packages are in\n",
      "\tC:\\Users\\mercan.karacabey\\AppData\\Local\\Temp\\RtmpmQocK9\\downloaded_packages\n",
      "package 'caret' successfully unpacked and MD5 sums checked\n"
     ]
    },
    {
     "name": "stderr",
     "output_type": "stream",
     "text": [
      "Warning message:\n",
      "\"cannot remove prior installation of package 'caret'\"Warning message in file.copy(savedcopy, lib, recursive = TRUE):\n",
      "\"problem copying C:\\Users\\mercan.karacabey\\AppData\\Local\\Continuum\\anaconda3\\envs\\R-tutorial\\Lib\\R\\library\\00LOCK\\caret\\libs\\x64\\caret.dll to C:\\Users\\mercan.karacabey\\AppData\\Local\\Continuum\\anaconda3\\envs\\R-tutorial\\Lib\\R\\library\\caret\\libs\\x64\\caret.dll: Permission denied\"Warning message:\n",
      "\"restored 'caret'\""
     ]
    },
    {
     "name": "stdout",
     "output_type": "stream",
     "text": [
      "\n",
      "The downloaded binary packages are in\n",
      "\tC:\\Users\\mercan.karacabey\\AppData\\Local\\Temp\\RtmpmQocK9\\downloaded_packages\n",
      "package 'verification' successfully unpacked and MD5 sums checked\n",
      "\n",
      "The downloaded binary packages are in\n",
      "\tC:\\Users\\mercan.karacabey\\AppData\\Local\\Temp\\RtmpmQocK9\\downloaded_packages\n",
      "package 'repr' successfully unpacked and MD5 sums checked\n",
      "\n",
      "The downloaded binary packages are in\n",
      "\tC:\\Users\\mercan.karacabey\\AppData\\Local\\Temp\\RtmpmQocK9\\downloaded_packages\n",
      "package 'arm' successfully unpacked and MD5 sums checked\n",
      "\n",
      "The downloaded binary packages are in\n",
      "\tC:\\Users\\mercan.karacabey\\AppData\\Local\\Temp\\RtmpmQocK9\\downloaded_packages\n",
      "package 'cowplot' successfully unpacked and MD5 sums checked\n",
      "\n",
      "The downloaded binary packages are in\n",
      "\tC:\\Users\\mercan.karacabey\\AppData\\Local\\Temp\\RtmpmQocK9\\downloaded_packages\n",
      "package 'LogicReg' successfully unpacked and MD5 sums checked\n"
     ]
    },
    {
     "name": "stderr",
     "output_type": "stream",
     "text": [
      "Warning message:\n",
      "\"cannot remove prior installation of package 'LogicReg'\"Warning message in file.copy(savedcopy, lib, recursive = TRUE):\n",
      "\"problem copying C:\\Users\\mercan.karacabey\\AppData\\Local\\Continuum\\anaconda3\\envs\\R-tutorial\\Lib\\R\\library\\00LOCK\\LogicReg\\libs\\x64\\LogicReg.dll to C:\\Users\\mercan.karacabey\\AppData\\Local\\Continuum\\anaconda3\\envs\\R-tutorial\\Lib\\R\\library\\LogicReg\\libs\\x64\\LogicReg.dll: Permission denied\"Warning message:\n",
      "\"restored 'LogicReg'\""
     ]
    },
    {
     "name": "stdout",
     "output_type": "stream",
     "text": [
      "\n",
      "The downloaded binary packages are in\n",
      "\tC:\\Users\\mercan.karacabey\\AppData\\Local\\Temp\\RtmpmQocK9\\downloaded_packages\n",
      "package 'superml' successfully unpacked and MD5 sums checked\n",
      "\n",
      "The downloaded binary packages are in\n",
      "\tC:\\Users\\mercan.karacabey\\AppData\\Local\\Temp\\RtmpmQocK9\\downloaded_packages\n"
     ]
    }
   ],
   "source": [
    "install.packages(\"tidyverse\")\n",
    "install.packages(\"caret\")\n",
    "install.packages(\"verification\")\n",
    "install.packages(\"repr\")\n",
    "install.packages(\"arm\")\n",
    "install.packages(\"cowplot\")\n",
    "install.packages(\"LogicReg\")\n",
    "install.packages(\"superml\")"
   ]
  },
  {
   "cell_type": "markdown",
   "metadata": {},
   "source": [
    "***Import libraries***"
   ]
  },
  {
   "cell_type": "code",
   "execution_count": 5,
   "metadata": {
    "collapsed": true
   },
   "outputs": [
    {
     "name": "stderr",
     "output_type": "stream",
     "text": [
      "Warning message:\n",
      "\"package 'arm' was built under R version 3.6.2\"Loading required package: Matrix\n",
      "Warning message:\n",
      "\"package 'Matrix' was built under R version 3.6.2\"\n",
      "Attaching package: 'Matrix'\n",
      "\n",
      "The following object is masked from 'package:spam':\n",
      "\n",
      "    det\n",
      "\n",
      "The following objects are masked from 'package:tidyr':\n",
      "\n",
      "    expand, pack, unpack\n",
      "\n",
      "Loading required package: lme4\n",
      "Warning message:\n",
      "\"package 'lme4' was built under R version 3.6.2\"\n",
      "arm (Version 1.10-1, built: 2018-4-12)\n",
      "\n",
      "Working directory is C:/Users/mercan.karacabey\n",
      "\n",
      "\n",
      "Attaching package: 'arm'\n",
      "\n",
      "The following object is masked from 'package:boot':\n",
      "\n",
      "    logit\n",
      "\n",
      "The following object is masked from 'package:spam':\n",
      "\n",
      "    display\n",
      "\n",
      "Warning message:\n",
      "\"package 'cowplot' was built under R version 3.6.2\"\n",
      "********************************************************\n",
      "Note: As of version 1.0.0, cowplot does not change the\n",
      "  default ggplot2 theme anymore. To recover the previous\n",
      "  behavior, execute:\n",
      "  theme_set(theme_cowplot())\n",
      "********************************************************\n",
      "\n",
      "Warning message:\n",
      "\"package 'LogicReg' was built under R version 3.6.2\"Loading required package: survival\n",
      "\n",
      "Attaching package: 'survival'\n",
      "\n",
      "The following object is masked from 'package:boot':\n",
      "\n",
      "    aml\n",
      "\n",
      "The following object is masked from 'package:caret':\n",
      "\n",
      "    cluster\n",
      "\n",
      "Warning message:\n",
      "\"package 'superml' was built under R version 3.6.2\"Loading required package: R6\n"
     ]
    }
   ],
   "source": [
    "suppressPackageStartupMessages(library(tidyverse))\n",
    "suppressPackageStartupMessages(library(caret))\n",
    "suppressPackageStartupMessages(library(verification))\n",
    "library(arm)\n",
    "library(cowplot)\n",
    "library(LogicReg)\n",
    "library(superml)"
   ]
  },
  {
   "cell_type": "markdown",
   "metadata": {},
   "source": [
    "#### Data Collection - Import Operations\n",
    "\n",
    "Data Collection is the process of gathering information on targeted variables identified as data requirements. The emphasis is on ensuring accurate and honest collection of data. Data Collection ensures that data gathered is accurate such that the related decisions are valid. Data Collection provides both a baseline to measure and a target to improve.\n",
    "\n",
    "Data is collected from various sources ranging from organizational databases to the information in web pages. The data thus obtained, may not be structured and may contain irrelevant information."
   ]
  },
  {
   "cell_type": "markdown",
   "metadata": {},
   "source": [
    "###### Save the data in dataframe\n",
    "Data frame is a two dimensional data structure in R. It is a special case of a list which has each component of equal length.\n",
    "\n",
    "Each component form the column and contents of the component form the rows."
   ]
  },
  {
   "cell_type": "code",
   "execution_count": 48,
   "metadata": {
    "scrolled": true
   },
   "outputs": [
    {
     "name": "stdout",
     "output_type": "stream",
     "text": [
      "'data.frame':\t595212 obs. of  59 variables:\n",
      " $ id            : int  7 9 13 16 17 19 20 22 26 28 ...\n",
      " $ target        : int  0 0 0 0 0 0 0 0 0 1 ...\n",
      " $ ps_ind_01     : int  2 1 5 0 0 5 2 5 5 1 ...\n",
      " $ ps_ind_02_cat : int  2 1 4 1 2 1 1 1 1 1 ...\n",
      " $ ps_ind_03     : int  5 7 9 2 0 4 3 4 3 2 ...\n",
      " $ ps_ind_04_cat : int  1 0 1 0 1 0 1 0 1 0 ...\n",
      " $ ps_ind_05_cat : int  0 0 0 0 0 0 0 0 0 0 ...\n",
      " $ ps_ind_06_bin : int  0 0 0 1 1 0 0 1 0 0 ...\n",
      " $ ps_ind_07_bin : int  1 0 0 0 0 0 1 0 0 1 ...\n",
      " $ ps_ind_08_bin : int  0 1 1 0 0 0 0 0 1 0 ...\n",
      " $ ps_ind_09_bin : int  0 0 0 0 0 1 0 0 0 0 ...\n",
      " $ ps_ind_10_bin : int  0 0 0 0 0 0 0 0 0 0 ...\n",
      " $ ps_ind_11_bin : int  0 0 0 0 0 0 0 0 0 0 ...\n",
      " $ ps_ind_12_bin : int  0 0 0 0 0 0 0 0 0 0 ...\n",
      " $ ps_ind_13_bin : int  0 0 0 0 0 0 0 0 0 0 ...\n",
      " $ ps_ind_14     : int  0 0 0 0 0 0 0 0 0 0 ...\n",
      " $ ps_ind_15     : int  11 3 12 8 9 6 8 13 6 4 ...\n",
      " $ ps_ind_16_bin : int  0 0 1 1 1 1 1 1 1 0 ...\n",
      " $ ps_ind_17_bin : int  1 0 0 0 0 0 0 0 0 0 ...\n",
      " $ ps_ind_18_bin : int  0 1 0 0 0 0 0 0 0 1 ...\n",
      " $ ps_reg_01     : num  0.7 0.8 0 0.9 0.7 0.9 0.6 0.7 0.9 0.9 ...\n",
      " $ ps_reg_02     : num  0.2 0.4 0 0.2 0.6 1.8 0.1 0.4 0.7 1.4 ...\n",
      " $ ps_reg_03     : num  0.718 0.766 -1 0.581 0.841 ...\n",
      " $ ps_car_01_cat : int  10 11 7 7 11 10 6 11 10 11 ...\n",
      " $ ps_car_02_cat : int  1 1 1 1 1 0 1 1 1 0 ...\n",
      " $ ps_car_03_cat : int  -1 -1 -1 0 -1 -1 -1 0 -1 0 ...\n",
      " $ ps_car_04_cat : int  0 0 0 0 0 0 0 0 0 1 ...\n",
      " $ ps_car_05_cat : int  1 -1 -1 1 -1 0 1 0 1 0 ...\n",
      " $ ps_car_06_cat : int  4 11 14 11 14 14 11 11 14 14 ...\n",
      " $ ps_car_07_cat : int  1 1 1 1 1 1 1 1 1 1 ...\n",
      " $ ps_car_08_cat : int  0 1 1 1 1 1 1 1 1 1 ...\n",
      " $ ps_car_09_cat : int  0 2 2 3 2 0 0 2 0 2 ...\n",
      " $ ps_car_10_cat : int  1 1 1 1 1 1 1 1 1 1 ...\n",
      " $ ps_car_11_cat : int  12 19 60 104 82 104 99 30 68 104 ...\n",
      " $ ps_car_11     : int  2 3 1 1 3 2 2 3 3 2 ...\n",
      " $ ps_car_12     : num  0.4 0.316 0.316 0.374 0.316 ...\n",
      " $ ps_car_13     : num  0.884 0.619 0.642 0.543 0.566 ...\n",
      " $ ps_car_14     : num  0.371 0.389 0.347 0.295 0.365 ...\n",
      " $ ps_car_15     : num  3.61 2.45 3.32 2 2 ...\n",
      " $ ps_calc_01    : num  0.6 0.3 0.5 0.6 0.4 0.7 0.2 0.1 0.9 0.7 ...\n",
      " $ ps_calc_02    : num  0.5 0.1 0.7 0.9 0.6 0.8 0.6 0.5 0.8 0.8 ...\n",
      " $ ps_calc_03    : num  0.2 0.3 0.1 0.1 0 0.4 0.5 0.1 0.6 0.8 ...\n",
      " $ ps_calc_04    : int  3 2 2 2 2 3 2 1 3 2 ...\n",
      " $ ps_calc_05    : int  1 1 2 4 2 1 2 2 1 2 ...\n",
      " $ ps_calc_06    : int  10 9 9 7 6 8 8 7 7 8 ...\n",
      " $ ps_calc_07    : int  1 5 1 1 3 2 1 1 3 2 ...\n",
      " $ ps_calc_08    : int  10 8 8 8 10 11 8 6 9 9 ...\n",
      " $ ps_calc_09    : int  1 1 2 4 2 3 3 1 4 1 ...\n",
      " $ ps_calc_10    : int  5 7 7 2 12 8 10 13 11 11 ...\n",
      " $ ps_calc_11    : int  9 3 4 2 3 4 3 7 4 3 ...\n",
      " $ ps_calc_12    : int  1 1 2 2 1 2 0 1 2 5 ...\n",
      " $ ps_calc_13    : int  5 1 7 4 1 0 0 3 1 0 ...\n",
      " $ ps_calc_14    : int  8 9 7 9 3 9 10 6 5 6 ...\n",
      " $ ps_calc_15_bin: int  0 0 0 0 0 0 0 1 0 0 ...\n",
      " $ ps_calc_16_bin: int  1 1 1 0 0 1 1 0 1 1 ...\n",
      " $ ps_calc_17_bin: int  1 1 1 0 0 0 0 1 0 0 ...\n",
      " $ ps_calc_18_bin: int  0 0 0 0 1 1 0 0 0 0 ...\n",
      " $ ps_calc_19_bin: int  0 1 1 0 1 1 1 1 0 1 ...\n",
      " $ ps_calc_20_bin: int  1 0 0 0 0 1 0 0 1 0 ...\n"
     ]
    }
   ],
   "source": [
    "df <- read.csv(\"train.csv\")\n",
    "str(df)"
   ]
  },
  {
   "cell_type": "code",
   "execution_count": 92,
   "metadata": {
    "scrolled": true
   },
   "outputs": [],
   "source": [
    "df_test <- read.csv(\"test.csv\")"
   ]
  },
  {
   "cell_type": "markdown",
   "metadata": {},
   "source": [
    "Hosts are asking for predicted probabilities that each of the customers in the test data filed a claim. We are given 56 anonymized features which we can use to model claims and make predictions. \n",
    "\n",
    "**summary()** function is a generic function used to produce result summaries of the results of various model fitting functions. The function invokes particular methods which depend on the class of the first argument."
   ]
  },
  {
   "cell_type": "code",
   "execution_count": 7,
   "metadata": {
    "scrolled": true
   },
   "outputs": [
    {
     "data": {
      "text/plain": [
       "       id              target          ps_ind_01   ps_ind_02_cat   \n",
       " Min.   :      7   Min.   :0.00000   Min.   :0.0   Min.   :-1.000  \n",
       " 1st Qu.: 371992   1st Qu.:0.00000   1st Qu.:0.0   1st Qu.: 1.000  \n",
       " Median : 743548   Median :0.00000   Median :1.0   Median : 1.000  \n",
       " Mean   : 743804   Mean   :0.03645   Mean   :1.9   Mean   : 1.359  \n",
       " 3rd Qu.:1115549   3rd Qu.:0.00000   3rd Qu.:3.0   3rd Qu.: 2.000  \n",
       " Max.   :1488027   Max.   :1.00000   Max.   :7.0   Max.   : 4.000  \n",
       "   ps_ind_03      ps_ind_04_cat     ps_ind_05_cat     ps_ind_06_bin   \n",
       " Min.   : 0.000   Min.   :-1.0000   Min.   :-1.0000   Min.   :0.0000  \n",
       " 1st Qu.: 2.000   1st Qu.: 0.0000   1st Qu.: 0.0000   1st Qu.:0.0000  \n",
       " Median : 4.000   Median : 0.0000   Median : 0.0000   Median :0.0000  \n",
       " Mean   : 4.423   Mean   : 0.4168   Mean   : 0.4052   Mean   :0.3937  \n",
       " 3rd Qu.: 6.000   3rd Qu.: 1.0000   3rd Qu.: 0.0000   3rd Qu.:1.0000  \n",
       " Max.   :11.000   Max.   : 1.0000   Max.   : 6.0000   Max.   :1.0000  \n",
       " ps_ind_07_bin   ps_ind_08_bin    ps_ind_09_bin    ps_ind_10_bin     \n",
       " Min.   :0.000   Min.   :0.0000   Min.   :0.0000   Min.   :0.000000  \n",
       " 1st Qu.:0.000   1st Qu.:0.0000   1st Qu.:0.0000   1st Qu.:0.000000  \n",
       " Median :0.000   Median :0.0000   Median :0.0000   Median :0.000000  \n",
       " Mean   :0.257   Mean   :0.1639   Mean   :0.1853   Mean   :0.000373  \n",
       " 3rd Qu.:1.000   3rd Qu.:0.0000   3rd Qu.:0.0000   3rd Qu.:0.000000  \n",
       " Max.   :1.000   Max.   :1.0000   Max.   :1.0000   Max.   :1.000000  \n",
       " ps_ind_11_bin      ps_ind_12_bin      ps_ind_13_bin         ps_ind_14      \n",
       " Min.   :0.000000   Min.   :0.000000   Min.   :0.0000000   Min.   :0.00000  \n",
       " 1st Qu.:0.000000   1st Qu.:0.000000   1st Qu.:0.0000000   1st Qu.:0.00000  \n",
       " Median :0.000000   Median :0.000000   Median :0.0000000   Median :0.00000  \n",
       " Mean   :0.001692   Mean   :0.009439   Mean   :0.0009476   Mean   :0.01245  \n",
       " 3rd Qu.:0.000000   3rd Qu.:0.000000   3rd Qu.:0.0000000   3rd Qu.:0.00000  \n",
       " Max.   :1.000000   Max.   :1.000000   Max.   :1.0000000   Max.   :4.00000  \n",
       "   ps_ind_15    ps_ind_16_bin    ps_ind_17_bin    ps_ind_18_bin   \n",
       " Min.   : 0.0   Min.   :0.0000   Min.   :0.0000   Min.   :0.0000  \n",
       " 1st Qu.: 5.0   1st Qu.:0.0000   1st Qu.:0.0000   1st Qu.:0.0000  \n",
       " Median : 7.0   Median :1.0000   Median :0.0000   Median :0.0000  \n",
       " Mean   : 7.3   Mean   :0.6608   Mean   :0.1211   Mean   :0.1534  \n",
       " 3rd Qu.:10.0   3rd Qu.:1.0000   3rd Qu.:0.0000   3rd Qu.:0.0000  \n",
       " Max.   :13.0   Max.   :1.0000   Max.   :1.0000   Max.   :1.0000  \n",
       "   ps_reg_01       ps_reg_02        ps_reg_03       ps_car_01_cat   \n",
       " Min.   :0.000   Min.   :0.0000   Min.   :-1.0000   Min.   :-1.000  \n",
       " 1st Qu.:0.400   1st Qu.:0.2000   1st Qu.: 0.5250   1st Qu.: 7.000  \n",
       " Median :0.700   Median :0.3000   Median : 0.7207   Median : 7.000  \n",
       " Mean   :0.611   Mean   :0.4392   Mean   : 0.5511   Mean   : 8.296  \n",
       " 3rd Qu.:0.900   3rd Qu.:0.6000   3rd Qu.: 1.0000   3rd Qu.:11.000  \n",
       " Max.   :0.900   Max.   :1.8000   Max.   : 4.0379   Max.   :11.000  \n",
       " ps_car_02_cat     ps_car_03_cat     ps_car_04_cat    ps_car_05_cat    \n",
       " Min.   :-1.0000   Min.   :-1.0000   Min.   :0.0000   Min.   :-1.0000  \n",
       " 1st Qu.: 1.0000   1st Qu.:-1.0000   1st Qu.:0.0000   1st Qu.:-1.0000  \n",
       " Median : 1.0000   Median :-1.0000   Median :0.0000   Median : 0.0000  \n",
       " Mean   : 0.8299   Mean   :-0.5049   Mean   :0.7252   Mean   :-0.1577  \n",
       " 3rd Qu.: 1.0000   3rd Qu.: 0.0000   3rd Qu.:0.0000   3rd Qu.: 1.0000  \n",
       " Max.   : 1.0000   Max.   : 1.0000   Max.   :9.0000   Max.   : 1.0000  \n",
       " ps_car_06_cat    ps_car_07_cat   ps_car_08_cat    ps_car_09_cat   \n",
       " Min.   : 0.000   Min.   :-1.00   Min.   :0.0000   Min.   :-1.000  \n",
       " 1st Qu.: 1.000   1st Qu.: 1.00   1st Qu.:1.0000   1st Qu.: 0.000  \n",
       " Median : 7.000   Median : 1.00   Median :1.0000   Median : 2.000  \n",
       " Mean   : 6.555   Mean   : 0.91   Mean   :0.8321   Mean   : 1.329  \n",
       " 3rd Qu.:11.000   3rd Qu.: 1.00   3rd Qu.:1.0000   3rd Qu.: 2.000  \n",
       " Max.   :17.000   Max.   : 1.00   Max.   :1.0000   Max.   : 4.000  \n",
       " ps_car_10_cat    ps_car_11_cat      ps_car_11        ps_car_12      \n",
       " Min.   :0.0000   Min.   :  1.00   Min.   :-1.000   Min.   :-1.0000  \n",
       " 1st Qu.:1.0000   1st Qu.: 32.00   1st Qu.: 2.000   1st Qu.: 0.3162  \n",
       " Median :1.0000   Median : 65.00   Median : 3.000   Median : 0.3742  \n",
       " Mean   :0.9921   Mean   : 62.22   Mean   : 2.346   Mean   : 0.3799  \n",
       " 3rd Qu.:1.0000   3rd Qu.: 93.00   3rd Qu.: 3.000   3rd Qu.: 0.4000  \n",
       " Max.   :2.0000   Max.   :104.00   Max.   : 3.000   Max.   : 1.2649  \n",
       "   ps_car_13        ps_car_14         ps_car_15       ps_calc_01    \n",
       " Min.   :0.2506   Min.   :-1.0000   Min.   :0.000   Min.   :0.0000  \n",
       " 1st Qu.:0.6709   1st Qu.: 0.3332   1st Qu.:2.828   1st Qu.:0.2000  \n",
       " Median :0.7658   Median : 0.3688   Median :3.317   Median :0.5000  \n",
       " Mean   :0.8133   Mean   : 0.2763   Mean   :3.066   Mean   :0.4498  \n",
       " 3rd Qu.:0.9062   3rd Qu.: 0.3965   3rd Qu.:3.606   3rd Qu.:0.7000  \n",
       " Max.   :3.7206   Max.   : 0.6364   Max.   :3.742   Max.   :0.9000  \n",
       "   ps_calc_02       ps_calc_03       ps_calc_04      ps_calc_05   \n",
       " Min.   :0.0000   Min.   :0.0000   Min.   :0.000   Min.   :0.000  \n",
       " 1st Qu.:0.2000   1st Qu.:0.2000   1st Qu.:2.000   1st Qu.:1.000  \n",
       " Median :0.4000   Median :0.5000   Median :2.000   Median :2.000  \n",
       " Mean   :0.4496   Mean   :0.4498   Mean   :2.372   Mean   :1.886  \n",
       " 3rd Qu.:0.7000   3rd Qu.:0.7000   3rd Qu.:3.000   3rd Qu.:3.000  \n",
       " Max.   :0.9000   Max.   :0.9000   Max.   :5.000   Max.   :6.000  \n",
       "   ps_calc_06       ps_calc_07      ps_calc_08       ps_calc_09   \n",
       " Min.   : 0.000   Min.   :0.000   Min.   : 2.000   Min.   :0.000  \n",
       " 1st Qu.: 7.000   1st Qu.:2.000   1st Qu.: 8.000   1st Qu.:1.000  \n",
       " Median : 8.000   Median :3.000   Median : 9.000   Median :2.000  \n",
       " Mean   : 7.689   Mean   :3.006   Mean   : 9.226   Mean   :2.339  \n",
       " 3rd Qu.: 9.000   3rd Qu.:4.000   3rd Qu.:10.000   3rd Qu.:3.000  \n",
       " Max.   :10.000   Max.   :9.000   Max.   :12.000   Max.   :7.000  \n",
       "   ps_calc_10       ps_calc_11       ps_calc_12       ps_calc_13    \n",
       " Min.   : 0.000   Min.   : 0.000   Min.   : 0.000   Min.   : 0.000  \n",
       " 1st Qu.: 6.000   1st Qu.: 4.000   1st Qu.: 1.000   1st Qu.: 2.000  \n",
       " Median : 8.000   Median : 5.000   Median : 1.000   Median : 3.000  \n",
       " Mean   : 8.434   Mean   : 5.441   Mean   : 1.442   Mean   : 2.872  \n",
       " 3rd Qu.:10.000   3rd Qu.: 7.000   3rd Qu.: 2.000   3rd Qu.: 4.000  \n",
       " Max.   :25.000   Max.   :19.000   Max.   :10.000   Max.   :13.000  \n",
       "   ps_calc_14     ps_calc_15_bin   ps_calc_16_bin   ps_calc_17_bin  \n",
       " Min.   : 0.000   Min.   :0.0000   Min.   :0.0000   Min.   :0.0000  \n",
       " 1st Qu.: 6.000   1st Qu.:0.0000   1st Qu.:0.0000   1st Qu.:0.0000  \n",
       " Median : 7.000   Median :0.0000   Median :1.0000   Median :1.0000  \n",
       " Mean   : 7.539   Mean   :0.1224   Mean   :0.6278   Mean   :0.5542  \n",
       " 3rd Qu.: 9.000   3rd Qu.:0.0000   3rd Qu.:1.0000   3rd Qu.:1.0000  \n",
       " Max.   :23.000   Max.   :1.0000   Max.   :1.0000   Max.   :1.0000  \n",
       " ps_calc_18_bin   ps_calc_19_bin  ps_calc_20_bin  \n",
       " Min.   :0.0000   Min.   :0.000   Min.   :0.0000  \n",
       " 1st Qu.:0.0000   1st Qu.:0.000   1st Qu.:0.0000  \n",
       " Median :0.0000   Median :0.000   Median :0.0000  \n",
       " Mean   :0.2872   Mean   :0.349   Mean   :0.1533  \n",
       " 3rd Qu.:1.0000   3rd Qu.:1.000   3rd Qu.:0.0000  \n",
       " Max.   :1.0000   Max.   :1.000   Max.   :1.0000  "
      ]
     },
     "metadata": {},
     "output_type": "display_data"
    }
   ],
   "source": [
    "summary(df)"
   ]
  },
  {
   "cell_type": "markdown",
   "metadata": {},
   "source": [
    "In statistics and machine learning we usually split our data into two subsets: training data and testing data (and sometimes to three: train, validate and test), and fit our model on the train data, in order to make predictions on the test data. "
   ]
  },
  {
   "cell_type": "code",
   "execution_count": 49,
   "metadata": {},
   "outputs": [],
   "source": [
    "# set seed for reproducibility\n",
    "set.seed(123)\n",
    "\n",
    "# making a train index\n",
    "train_index <- sample(c(TRUE, FALSE), replace = TRUE, size = nrow(df), prob = c(0.2, 0.8))\n",
    "\n",
    "# split the data according to the train index\n",
    "training <- as.data.frame(df[train_index, ])\n",
    "testing <- as.data.frame(df[!train_index, ])"
   ]
  },
  {
   "cell_type": "markdown",
   "metadata": {},
   "source": [
    "### Logistic Regression for Classification\n",
    "\n",
    "Logistic regression is the appropriate regression analysis to conduct when the dependent variable is dichotomous (binary).  Like all regression analyses, the logistic regression is a predictive analysis.  Logistic regression is used to describe data and to explain the relationship between one dependent binary variable and one or more nominal, ordinal, interval or ratio-level independent variables.\n",
    "\n",
    "Logistic regression is a derivative of linear regression where we are interested in making binary predictions or probability predictions on the interval [0, 1] with a threshold probability to determine where we split between 0 and 1.\n",
    "\n",
    "We want to predict, the customer filed a claim or did not"
   ]
  },
  {
   "cell_type": "code",
   "execution_count": 9,
   "metadata": {},
   "outputs": [],
   "source": [
    "logmod <- glm(target ~ . - id, data = training, family = binomial(link = 'logit'))"
   ]
  },
  {
   "cell_type": "code",
   "execution_count": 10,
   "metadata": {
    "scrolled": true
   },
   "outputs": [
    {
     "data": {
      "text/plain": [
       "\n",
       "Call:\n",
       "glm(formula = target ~ . - id, family = binomial(link = \"logit\"), \n",
       "    data = training)\n",
       "\n",
       "Deviance Residuals: \n",
       "    Min       1Q   Median       3Q      Max  \n",
       "-0.7759  -0.2941  -0.2544  -0.2219   3.0147  \n",
       "\n",
       "Coefficients: (2 not defined because of singularities)\n",
       "                 Estimate Std. Error z value Pr(>|z|)    \n",
       "(Intercept)    -4.5221132  0.3396053 -13.316  < 2e-16 ***\n",
       "ps_ind_01       0.0092039  0.0086529   1.064  0.28747    \n",
       "ps_ind_02_cat   0.0029431  0.0235955   0.125  0.90074    \n",
       "ps_ind_03       0.0172087  0.0061843   2.783  0.00539 ** \n",
       "ps_ind_04_cat   0.0266657  0.0353680   0.754  0.45088    \n",
       "ps_ind_05_cat   0.0910532  0.0099013   9.196  < 2e-16 ***\n",
       "ps_ind_06_bin   0.0016394  0.0504358   0.033  0.97407    \n",
       "ps_ind_07_bin   0.2813998  0.0525192   5.358 8.41e-08 ***\n",
       "ps_ind_08_bin   0.3371190  0.0542036   6.219 4.99e-10 ***\n",
       "ps_ind_09_bin          NA         NA      NA       NA    \n",
       "ps_ind_10_bin  -0.3613633  0.7329346  -0.493  0.62199    \n",
       "ps_ind_11_bin  -0.0734907  0.3607463  -0.204  0.83857    \n",
       "ps_ind_12_bin   0.0307650  0.1419354   0.217  0.82840    \n",
       "ps_ind_13_bin  -0.2345842  0.4731717  -0.496  0.62006    \n",
       "ps_ind_14              NA         NA      NA       NA    \n",
       "ps_ind_15      -0.0298329  0.0050795  -5.873 4.27e-09 ***\n",
       "ps_ind_16_bin  -0.1124421  0.0646057  -1.740  0.08178 .  \n",
       "ps_ind_17_bin   0.2007875  0.0730691   2.748  0.00600 ** \n",
       "ps_ind_18_bin  -0.0904071  0.0765930  -1.180  0.23786    \n",
       "ps_reg_01       0.2411416  0.0750855   3.212  0.00132 ** \n",
       "ps_reg_02       0.0856460  0.0453296   1.889  0.05884 .  \n",
       "ps_reg_03       0.0828051  0.0280938   2.947  0.00320 ** \n",
       "ps_car_01_cat   0.0113736  0.0069981   1.625  0.10411    \n",
       "ps_car_02_cat  -0.0946319  0.0468461  -2.020  0.04338 *  \n",
       "ps_car_03_cat   0.0580099  0.0275096   2.109  0.03497 *  \n",
       "ps_car_04_cat  -0.0092166  0.0086951  -1.060  0.28916    \n",
       "ps_car_05_cat   0.0636954  0.0265447   2.400  0.01642 *  \n",
       "ps_car_06_cat  -0.0080519  0.0030223  -2.664  0.00772 ** \n",
       "ps_car_07_cat  -0.2396408  0.0384152  -6.238 4.43e-10 ***\n",
       "ps_car_08_cat  -0.0002398  0.0468999  -0.005  0.99592    \n",
       "ps_car_09_cat   0.0565735  0.0205908   2.748  0.00601 ** \n",
       "ps_car_10_cat  -0.0603946  0.1770632  -0.341  0.73304    \n",
       "ps_car_11_cat  -0.0001611  0.0004710  -0.342  0.73238    \n",
       "ps_car_11      -0.0548703  0.0193562  -2.835  0.00459 ** \n",
       "ps_car_12       1.0792688  0.4222414   2.556  0.01059 *  \n",
       "ps_car_13       0.2021845  0.1398918   1.445  0.14838    \n",
       "ps_car_14       0.0523093  0.0439855   1.189  0.23434    \n",
       "ps_car_15       0.1518439  0.0338455   4.486 7.24e-06 ***\n",
       "ps_calc_01      0.0354085  0.0540871   0.655  0.51269    \n",
       "ps_calc_02      0.0014637  0.0541213   0.027  0.97842    \n",
       "ps_calc_03      0.0178056  0.0540314   0.330  0.74175    \n",
       "ps_calc_04      0.0099354  0.0138963   0.715  0.47463    \n",
       "ps_calc_05     -0.0104527  0.0136948  -0.763  0.44531    \n",
       "ps_calc_06      0.0039639  0.0116099   0.341  0.73279    \n",
       "ps_calc_07      0.0019786  0.0109671   0.180  0.85683    \n",
       "ps_calc_08      0.0149717  0.0107347   1.395  0.16311    \n",
       "ps_calc_09      0.0110992  0.0124229   0.893  0.37162    \n",
       "ps_calc_10      0.0051830  0.0053177   0.975  0.32972    \n",
       "ps_calc_11      0.0060121  0.0066095   0.910  0.36303    \n",
       "ps_calc_12      0.0051931  0.0128913   0.403  0.68707    \n",
       "ps_calc_13     -0.0118842  0.0092205  -1.289  0.19744    \n",
       "ps_calc_14      0.0090604  0.0056188   1.613  0.10685    \n",
       "ps_calc_15_bin  0.0640911  0.0462822   1.385  0.16612    \n",
       "ps_calc_16_bin -0.0254127  0.0319859  -0.794  0.42691    \n",
       "ps_calc_17_bin  0.0117771  0.0312319   0.377  0.70611    \n",
       "ps_calc_18_bin -0.0214192  0.0344518  -0.622  0.53413    \n",
       "ps_calc_19_bin -0.0570157  0.0328669  -1.735  0.08279 .  \n",
       "ps_calc_20_bin -0.0498645  0.0436101  -1.143  0.25286    \n",
       "---\n",
       "Signif. codes:  0 '***' 0.001 '**' 0.01 '*' 0.05 '.' 0.1 ' ' 1\n",
       "\n",
       "(Dispersion parameter for binomial family taken to be 1)\n",
       "\n",
       "    Null deviance: 37352  on 118902  degrees of freedom\n",
       "Residual deviance: 36491  on 118847  degrees of freedom\n",
       "AIC: 36603\n",
       "\n",
       "Number of Fisher Scoring iterations: 6\n"
      ]
     },
     "metadata": {},
     "output_type": "display_data"
    }
   ],
   "source": [
    "summary(logmod)"
   ]
  },
  {
   "cell_type": "code",
   "execution_count": 11,
   "metadata": {
    "collapsed": true
   },
   "outputs": [
    {
     "name": "stderr",
     "output_type": "stream",
     "text": [
      "Warning message in predict.lm(object, newdata, se.fit, scale = 1, type = if (type == :\n",
      "\"prediction from a rank-deficient fit may be misleading\""
     ]
    }
   ],
   "source": [
    "preds <- predict(logmod, newdata = testing, type = \"response\")"
   ]
  },
  {
   "cell_type": "markdown",
   "metadata": {},
   "source": [
    "####  Accuracy & Other Metrics "
   ]
  },
  {
   "cell_type": "code",
   "execution_count": 12,
   "metadata": {},
   "outputs": [
    {
     "data": {
      "text/html": [
       "0.96359716066671"
      ],
      "text/latex": [
       "0.96359716066671"
      ],
      "text/markdown": [
       "0.96359716066671"
      ],
      "text/plain": [
       "[1] 0.9635972"
      ]
     },
     "metadata": {},
     "output_type": "display_data"
    }
   ],
   "source": [
    "y_pred_num <- ifelse(preds > 0.5, 1, 0)\n",
    "y_pred <- factor(y_pred_num, levels=c(0, 1))\n",
    "y_act <- testing$target\n",
    "\n",
    "# Accuracy\n",
    "mean(y_pred == y_act)  "
   ]
  },
  {
   "cell_type": "code",
   "execution_count": 13,
   "metadata": {},
   "outputs": [
    {
     "data": {
      "image/png": "[encoded data removed]",
      "text/plain": [
       "Plot with title \"Regression Estimates\""
      ]
     },
     "metadata": {},
     "output_type": "display_data"
    }
   ],
   "source": [
    "coefplot(logmod, vertical=FALSE, mar=c(5.5,2.5,2,2))"
   ]
  },
  {
   "cell_type": "code",
   "execution_count": 14,
   "metadata": {},
   "outputs": [
    {
     "data": {
      "text/html": [
       "<dl class=dl-horizontal>\n",
       "\t<dt>0</dt>\n",
       "\t\t<dd>0.0363392622163245</dd>\n",
       "\t<dt>1</dt>\n",
       "\t\t<dd>0.0440044894533872</dd>\n",
       "</dl>\n"
      ],
      "text/latex": [
       "\\begin{description*}\n",
       "\\item[0] 0.0363392622163245\n",
       "\\item[1] 0.0440044894533872\n",
       "\\end{description*}\n"
      ],
      "text/markdown": [
       "0\n",
       ":   0.03633926221632451\n",
       ":   0.0440044894533872\n",
       "\n"
      ],
      "text/plain": [
       "         0          1 \n",
       "0.03633926 0.04400449 "
      ]
     },
     "metadata": {},
     "output_type": "display_data"
    }
   ],
   "source": [
    "tapply(preds, testing$target, mean)"
   ]
  },
  {
   "cell_type": "markdown",
   "metadata": {},
   "source": [
    "#### Confusion Matrix for different threshold values"
   ]
  },
  {
   "cell_type": "code",
   "execution_count": 26,
   "metadata": {},
   "outputs": [
    {
     "data": {
      "text/plain": [
       "   \n",
       "     FALSE   TRUE\n",
       "  0 454318   4652\n",
       "  1  16832    507"
      ]
     },
     "metadata": {},
     "output_type": "display_data"
    },
    {
     "data": {
      "text/plain": [
       "   \n",
       "     FALSE   TRUE\n",
       "  0 458969      1\n",
       "  1  17338      1"
      ]
     },
     "metadata": {},
     "output_type": "display_data"
    },
    {
     "data": {
      "text/plain": [
       "   \n",
       "     FALSE\n",
       "  0 458970\n",
       "  1  17339"
      ]
     },
     "metadata": {},
     "output_type": "display_data"
    },
    {
     "data": {
      "text/plain": [
       "   \n",
       "     FALSE\n",
       "  0 458970\n",
       "  1  17339"
      ]
     },
     "metadata": {},
     "output_type": "display_data"
    }
   ],
   "source": [
    "# Confusion matrix for threshold of 0.1\n",
    "table(testing$target, preds > 0.1)\n",
    "\n",
    "# Confusion matrix for threshold of 0.3\n",
    "table(testing$target, preds > 0.3)\n",
    "\n",
    "# Confusion matrix for threshold of 0.5\n",
    "table(testing$target, preds > 0.5)\n",
    "\n",
    "# Confusion matrix for threshold of 0.7\n",
    "table(testing$target, preds > 0.7)"
   ]
  },
  {
   "cell_type": "code",
   "execution_count": 27,
   "metadata": {},
   "outputs": [
    {
     "data": {
      "text/plain": [
       "   \n",
       "     FALSE   TRUE\n",
       "  0 454318   4652\n",
       "  1  16832    507"
      ]
     },
     "metadata": {},
     "output_type": "display_data"
    },
    {
     "data": {
      "image/png": "[encoded data removed]",
      "text/plain": [
       "plot without title"
      ]
     },
     "metadata": {},
     "output_type": "display_data"
    }
   ],
   "source": [
    "# Use 'scale' to normalize\n",
    "table(testing$target, preds > 0.1)\n",
    "\n",
    "data <- as.matrix(table(testing$target, preds > 0.1))\n",
    "heatmap(data, scale=\"column\")"
   ]
  },
  {
   "cell_type": "markdown",
   "metadata": {},
   "source": [
    "#### ROC Curve"
   ]
  },
  {
   "cell_type": "code",
   "execution_count": 28,
   "metadata": {
    "collapsed": true
   },
   "outputs": [
    {
     "name": "stdout",
     "output_type": "stream",
     "text": [
      "package 'ROCR' successfully unpacked and MD5 sums checked\n",
      "\n",
      "The downloaded binary packages are in\n",
      "\tC:\\Users\\mercan.karacabey\\AppData\\Local\\Temp\\RtmpmQocK9\\downloaded_packages\n"
     ]
    },
    {
     "name": "stderr",
     "output_type": "stream",
     "text": [
      "Warning message:\n",
      "\"package 'ROCR' was built under R version 3.6.2\"Loading required package: gplots\n",
      "Warning message:\n",
      "\"package 'gplots' was built under R version 3.6.2\"\n",
      "Attaching package: 'gplots'\n",
      "\n",
      "The following object is masked from 'package:stats':\n",
      "\n",
      "    lowess\n",
      "\n"
     ]
    }
   ],
   "source": [
    "install.packages(\"ROCR\")\n",
    "library(ROCR)"
   ]
  },
  {
   "cell_type": "code",
   "execution_count": 29,
   "metadata": {},
   "outputs": [],
   "source": [
    "ROCRpred = prediction(preds, testing$target)"
   ]
  },
  {
   "cell_type": "code",
   "execution_count": 30,
   "metadata": {},
   "outputs": [],
   "source": [
    "ROCRperf = performance(ROCRpred, \"tpr\", \"fpr\")"
   ]
  },
  {
   "cell_type": "code",
   "execution_count": 88,
   "metadata": {},
   "outputs": [],
   "source": [
    "## AUC Value\n",
    "\n",
    "auc.tmp <- performance(ROCRpred,\"auc\");\n",
    "auc <- as.numeric(auc.tmp@y.values)"
   ]
  },
  {
   "cell_type": "code",
   "execution_count": 89,
   "metadata": {},
   "outputs": [
    {
     "data": {
      "text/html": [
       "0.618827007817666"
      ],
      "text/latex": [
       "0.618827007817666"
      ],
      "text/markdown": [
       "0.618827007817666"
      ],
      "text/plain": [
       "[1] 0.618827"
      ]
     },
     "metadata": {},
     "output_type": "display_data"
    }
   ],
   "source": [
    "auc"
   ]
  },
  {
   "cell_type": "code",
   "execution_count": 31,
   "metadata": {},
   "outputs": [
    {
     "data": {
      "image/png": "[encoded data removed]",
      "text/plain": [
       "plot without title"
      ]
     },
     "metadata": {},
     "output_type": "display_data"
    }
   ],
   "source": [
    "plot(ROCRperf, colorize=TRUE, print.cutoffs.at=seq(0,1,by=0.1), text.adj=c(-0.2,1.7))"
   ]
  },
  {
   "cell_type": "code",
   "execution_count": 33,
   "metadata": {
    "collapsed": true
   },
   "outputs": [
    {
     "name": "stdout",
     "output_type": "stream",
     "text": [
      "package 'data.table' successfully unpacked and MD5 sums checked\n"
     ]
    },
    {
     "name": "stderr",
     "output_type": "stream",
     "text": [
      "Warning message:\n",
      "\"cannot remove prior installation of package 'data.table'\"Warning message in file.copy(savedcopy, lib, recursive = TRUE):\n",
      "\"problem copying C:\\Users\\mercan.karacabey\\AppData\\Local\\Continuum\\anaconda3\\envs\\R-tutorial\\Lib\\R\\library\\00LOCK\\data.table\\libs\\x64\\datatable.dll to C:\\Users\\mercan.karacabey\\AppData\\Local\\Continuum\\anaconda3\\envs\\R-tutorial\\Lib\\R\\library\\data.table\\libs\\x64\\datatable.dll: Permission denied\"Warning message:\n",
      "\"restored 'data.table'\""
     ]
    },
    {
     "name": "stdout",
     "output_type": "stream",
     "text": [
      "\n",
      "The downloaded binary packages are in\n",
      "\tC:\\Users\\mercan.karacabey\\AppData\\Local\\Temp\\RtmpmQocK9\\downloaded_packages\n"
     ]
    },
    {
     "name": "stderr",
     "output_type": "stream",
     "text": [
      "Warning message:\n",
      "\"package 'data.table' was built under R version 3.6.2\"\n",
      "Attaching package: 'data.table'\n",
      "\n",
      "The following objects are masked from 'package:dplyr':\n",
      "\n",
      "    between, first, last\n",
      "\n",
      "The following object is masked from 'package:purrr':\n",
      "\n",
      "    transpose\n",
      "\n"
     ]
    }
   ],
   "source": [
    "install.packages(\"data.table\")\n",
    "\n",
    "library(data.table)"
   ]
  },
  {
   "cell_type": "code",
   "execution_count": 34,
   "metadata": {},
   "outputs": [],
   "source": [
    "train_l <- as.tibble(fread('train.csv', na.strings=c(\"-1\",\"-1.0\")))"
   ]
  },
  {
   "cell_type": "code",
   "execution_count": 37,
   "metadata": {
    "collapsed": true
   },
   "outputs": [
    {
     "name": "stdout",
     "output_type": "stream",
     "text": [
      "package 'corrplot' successfully unpacked and MD5 sums checked\n",
      "\n",
      "The downloaded binary packages are in\n",
      "\tC:\\Users\\mercan.karacabey\\AppData\\Local\\Temp\\RtmpmQocK9\\downloaded_packages\n"
     ]
    }
   ],
   "source": [
    "install.packages(\"corrplot\")"
   ]
  },
  {
   "cell_type": "code",
   "execution_count": 38,
   "metadata": {
    "collapsed": true
   },
   "outputs": [
    {
     "name": "stderr",
     "output_type": "stream",
     "text": [
      "Warning message:\n",
      "\"package 'corrplot' was built under R version 3.6.2\"corrplot 0.84 loaded\n",
      "\n",
      "Attaching package: 'corrplot'\n",
      "\n",
      "The following object is masked from 'package:arm':\n",
      "\n",
      "    corrplot\n",
      "\n"
     ]
    }
   ],
   "source": [
    "library(\"corrplot\")"
   ]
  },
  {
   "cell_type": "code",
   "execution_count": 41,
   "metadata": {},
   "outputs": [
    {
     "data": {
      "image/png": "[encoded data removed]",
      "text/plain": [
       "Plot with title \"\""
      ]
     },
     "metadata": {},
     "output_type": "display_data"
    }
   ],
   "source": [
    "training %>%\n",
    "  select(-starts_with(\"ps_calc\"), -ps_ind_10_bin, -ps_ind_11_bin, -ps_car_10_cat, -id) %>%\n",
    "  mutate_at(vars(ends_with(\"cat\")), funs(as.integer)) %>%\n",
    "  mutate_at(vars(ends_with(\"bin\")), funs(as.integer)) %>%\n",
    "  mutate(target = as.integer(target)) %>%\n",
    "  cor(use=\"complete.obs\", method = \"spearman\") %>%\n",
    "  corrplot(type=\"lower\", tl.col = \"black\",  diag=FALSE)"
   ]
  },
  {
   "cell_type": "code",
   "execution_count": 42,
   "metadata": {},
   "outputs": [
    {
     "name": "stdout",
     "output_type": "stream",
     "text": [
      "ps_ind_11_bin with ps_ind_02_cat \n",
      "ps_ind_12_bin with ps_ind_01 \n",
      "ps_ind_16_bin with target \n",
      "ps_ind_16_bin with ps_ind_01 \n",
      "ps_reg_01 with ps_ind_01 \n",
      "ps_reg_02 with target \n",
      "ps_car_04_cat with ps_ind_08_bin \n",
      "ps_car_04_cat with ps_ind_09_bin \n",
      "ps_car_12 with target \n",
      "ps_car_13 with ps_ind_01 \n"
     ]
    }
   ],
   "source": [
    "corr_check <- function(Dataset, threshold){\n",
    "  matriz_cor <- cor(Dataset)\n",
    "  matriz_cor\n",
    "\n",
    "  for (i in 1:nrow(matriz_cor)){\n",
    "    correlations <-  which((abs(matriz_cor[i,i:ncol(matriz_cor)]) > threshold) & (matriz_cor[i,i:ncol(matriz_cor)] != 1))\n",
    "  \n",
    "    if(length(correlations)> 0){\n",
    "      lapply(correlations,FUN =  function(x) (cat(paste(colnames(Dataset)[i], \"with\",colnames(Dataset)[x]), \"\\n\")))\n",
    "     \n",
    "    }\n",
    "  }\n",
    "}\n",
    "\n",
    "corr_check(training, 0.50)"
   ]
  },
  {
   "cell_type": "markdown",
   "metadata": {},
   "source": [
    "##### Find the highly correlated columns & Drop It"
   ]
  },
  {
   "cell_type": "code",
   "execution_count": 43,
   "metadata": {},
   "outputs": [
    {
     "name": "stdout",
     "output_type": "stream",
     "text": [
      "[1] \"training$ps_ind_11_bin\"\n"
     ]
    },
    {
     "data": {
      "text/html": [
       "0"
      ],
      "text/latex": [
       "0"
      ],
      "text/markdown": [
       "0"
      ],
      "text/plain": [
       "[1] 0"
      ]
     },
     "metadata": {},
     "output_type": "display_data"
    },
    {
     "name": "stdout",
     "output_type": "stream",
     "text": [
      "[1] \"training$ps_ind_02_cat\"\n"
     ]
    },
    {
     "data": {
      "text/html": [
       "36"
      ],
      "text/latex": [
       "36"
      ],
      "text/markdown": [
       "36"
      ],
      "text/plain": [
       "[1] 36"
      ]
     },
     "metadata": {},
     "output_type": "display_data"
    },
    {
     "data": {
      "image/png": "[encoded data removed]",
      "text/plain": [
       "Plot with title \"Histogram of training$ps_ind_02_cat\""
      ]
     },
     "metadata": {},
     "output_type": "display_data"
    }
   ],
   "source": [
    "print(\"training$ps_ind_11_bin\")\n",
    "sum(training$ps_ind_11_bin==-1)\n",
    "print(\"training$ps_ind_02_cat\")\n",
    "sum(training$ps_ind_02_cat==-1)\n",
    "par(mfrow=c(1,2)) \n",
    "hist(training$ps_ind_11_bin)\n",
    "hist(training$ps_ind_02_cat)"
   ]
  },
  {
   "cell_type": "code",
   "execution_count": 51,
   "metadata": {},
   "outputs": [],
   "source": [
    "training$ps_ind_11_bin <- NULL "
   ]
  },
  {
   "cell_type": "code",
   "execution_count": 50,
   "metadata": {},
   "outputs": [
    {
     "name": "stdout",
     "output_type": "stream",
     "text": [
      "[1] \"training$ps_ind_12_bin\"\n"
     ]
    },
    {
     "data": {
      "text/html": [
       "0"
      ],
      "text/latex": [
       "0"
      ],
      "text/markdown": [
       "0"
      ],
      "text/plain": [
       "[1] 0"
      ]
     },
     "metadata": {},
     "output_type": "display_data"
    },
    {
     "name": "stdout",
     "output_type": "stream",
     "text": [
      "[1] \"training$ps_ind_01\"\n"
     ]
    },
    {
     "data": {
      "text/html": [
       "0"
      ],
      "text/latex": [
       "0"
      ],
      "text/markdown": [
       "0"
      ],
      "text/plain": [
       "[1] 0"
      ]
     },
     "metadata": {},
     "output_type": "display_data"
    },
    {
     "data": {
      "image/png": "[encoded data removed]",
      "text/plain": [
       "Plot with title \"Histogram of training$ps_ind_01\""
      ]
     },
     "metadata": {},
     "output_type": "display_data"
    }
   ],
   "source": [
    "print(\"training$ps_ind_12_bin\")\n",
    "sum(training$ps_ind_12_bin==-1)\n",
    "print(\"training$ps_ind_01\")\n",
    "sum(training$ps_ind_01==-1)\n",
    "par(mfrow=c(1,2)) \n",
    "hist(training$ps_ind_12_bin)\n",
    "hist(training$ps_ind_01)"
   ]
  },
  {
   "cell_type": "code",
   "execution_count": 52,
   "metadata": {},
   "outputs": [],
   "source": [
    "training$ps_ind_12_bin <- NULL "
   ]
  },
  {
   "cell_type": "code",
   "execution_count": 53,
   "metadata": {},
   "outputs": [
    {
     "name": "stdout",
     "output_type": "stream",
     "text": [
      "[1] \"training$ps_reg_01\"\n"
     ]
    },
    {
     "data": {
      "text/html": [
       "0"
      ],
      "text/latex": [
       "0"
      ],
      "text/markdown": [
       "0"
      ],
      "text/plain": [
       "[1] 0"
      ]
     },
     "metadata": {},
     "output_type": "display_data"
    },
    {
     "name": "stdout",
     "output_type": "stream",
     "text": [
      "[1] \"training$ps_ind_02_cat\"\n"
     ]
    },
    {
     "data": {
      "text/html": [
       "0"
      ],
      "text/latex": [
       "0"
      ],
      "text/markdown": [
       "0"
      ],
      "text/plain": [
       "[1] 0"
      ]
     },
     "metadata": {},
     "output_type": "display_data"
    },
    {
     "data": {
      "image/png": "[encoded data removed]",
      "text/plain": [
       "Plot with title \"Histogram of training$ps_ind_01\""
      ]
     },
     "metadata": {},
     "output_type": "display_data"
    }
   ],
   "source": [
    "print(\"training$ps_reg_01\")\n",
    "sum(training$ps_reg_01==-1)\n",
    "print(\"training$ps_ind_02_cat\")\n",
    "sum(training$ps_ind_01==-1)\n",
    "par(mfrow=c(1,2)) \n",
    "hist(training$ps_reg_01)\n",
    "hist(training$ps_ind_01)"
   ]
  },
  {
   "cell_type": "code",
   "execution_count": 54,
   "metadata": {},
   "outputs": [
    {
     "name": "stdout",
     "output_type": "stream",
     "text": [
      "[1] \"training$ps_car_04_cat\"\n"
     ]
    },
    {
     "data": {
      "text/html": [
       "0"
      ],
      "text/latex": [
       "0"
      ],
      "text/markdown": [
       "0"
      ],
      "text/plain": [
       "[1] 0"
      ]
     },
     "metadata": {},
     "output_type": "display_data"
    },
    {
     "name": "stdout",
     "output_type": "stream",
     "text": [
      "[1] \"training$ps_ind_08_bin\"\n"
     ]
    },
    {
     "data": {
      "text/html": [
       "0"
      ],
      "text/latex": [
       "0"
      ],
      "text/markdown": [
       "0"
      ],
      "text/plain": [
       "[1] 0"
      ]
     },
     "metadata": {},
     "output_type": "display_data"
    },
    {
     "data": {
      "image/png": "[encoded data removed]",
      "text/plain": [
       "Plot with title \"Histogram of training$ps_ind_08_bin\""
      ]
     },
     "metadata": {},
     "output_type": "display_data"
    }
   ],
   "source": [
    "print(\"training$ps_car_04_cat\")\n",
    "sum(training$ps_car_04_cat==-1)\n",
    "print(\"training$ps_ind_08_bin\")\n",
    "sum(training$ps_ind_08_bin==-1)\n",
    "par(mfrow=c(1,2)) \n",
    "hist(training$ps_car_04_cat)\n",
    "hist(training$ps_ind_08_bin)"
   ]
  },
  {
   "cell_type": "code",
   "execution_count": 55,
   "metadata": {},
   "outputs": [],
   "source": [
    "training$ps_ind_08_bin <- NULL "
   ]
  },
  {
   "cell_type": "code",
   "execution_count": 56,
   "metadata": {},
   "outputs": [
    {
     "name": "stdout",
     "output_type": "stream",
     "text": [
      "[1] \"training$ps_car_04_cat\"\n"
     ]
    },
    {
     "data": {
      "text/html": [
       "0"
      ],
      "text/latex": [
       "0"
      ],
      "text/markdown": [
       "0"
      ],
      "text/plain": [
       "[1] 0"
      ]
     },
     "metadata": {},
     "output_type": "display_data"
    },
    {
     "name": "stdout",
     "output_type": "stream",
     "text": [
      "[1] \"training$ps_ind_09_bin\"\n"
     ]
    },
    {
     "data": {
      "text/html": [
       "0"
      ],
      "text/latex": [
       "0"
      ],
      "text/markdown": [
       "0"
      ],
      "text/plain": [
       "[1] 0"
      ]
     },
     "metadata": {},
     "output_type": "display_data"
    },
    {
     "data": {
      "image/png": "[encoded data removed]",
      "text/plain": [
       "Plot with title \"Histogram of training$ps_ind_09_bin\""
      ]
     },
     "metadata": {},
     "output_type": "display_data"
    }
   ],
   "source": [
    "print(\"training$ps_car_04_cat\")\n",
    "sum(training$ps_car_04_cat==-1)\n",
    "print(\"training$ps_ind_09_bin\")\n",
    "sum(training$ps_ind_09_bin==-1)\n",
    "par(mfrow=c(1,2)) \n",
    "hist(training$ps_car_04_cat)\n",
    "hist(training$ps_ind_09_bin)"
   ]
  },
  {
   "cell_type": "code",
   "execution_count": 57,
   "metadata": {},
   "outputs": [],
   "source": [
    "training$ps_ind_09_bin <- NULL "
   ]
  },
  {
   "cell_type": "code",
   "execution_count": 58,
   "metadata": {
    "scrolled": true
   },
   "outputs": [
    {
     "name": "stdout",
     "output_type": "stream",
     "text": [
      "[1] \"training$ps_car_13\"\n"
     ]
    },
    {
     "data": {
      "text/html": [
       "0"
      ],
      "text/latex": [
       "0"
      ],
      "text/markdown": [
       "0"
      ],
      "text/plain": [
       "[1] 0"
      ]
     },
     "metadata": {},
     "output_type": "display_data"
    },
    {
     "name": "stdout",
     "output_type": "stream",
     "text": [
      "[1] \"training$ps_ind_01\"\n"
     ]
    },
    {
     "data": {
      "text/html": [
       "0"
      ],
      "text/latex": [
       "0"
      ],
      "text/markdown": [
       "0"
      ],
      "text/plain": [
       "[1] 0"
      ]
     },
     "metadata": {},
     "output_type": "display_data"
    },
    {
     "data": {
      "image/png": "[encoded data removed]",
      "text/plain": [
       "Plot with title \"Histogram of training$ps_ind_01\""
      ]
     },
     "metadata": {},
     "output_type": "display_data"
    }
   ],
   "source": [
    "print(\"training$ps_car_13\")\n",
    "sum(training$ps_car_13==-1)\n",
    "print(\"training$ps_ind_01\")\n",
    "sum(training$ps_ind_01==-1)\n",
    "par(mfrow=c(1,2)) \n",
    "hist(training$ps_car_13)\n",
    "hist(training$ps_ind_01)"
   ]
  },
  {
   "cell_type": "markdown",
   "metadata": {},
   "source": [
    "#### Grid Search In R - Managed by SuperML library"
   ]
  },
  {
   "cell_type": "markdown",
   "metadata": {},
   "source": [
    "Grid search CV is used to train a machine learning model with multiple combinations of training hyper parameters and finds the best combination of parameters which optimizes the evaluation metric.\n",
    "It creates an exhaustive set of hyperparameter combinations and train model on each combination."
   ]
  },
  {
   "cell_type": "code",
   "execution_count": 59,
   "metadata": {},
   "outputs": [],
   "source": [
    "rf <- RFTrainer$new()\n",
    "gst <-GridSearchCV$new(trainer = rf,\n",
    "parameters = list(n_estimators = c(100),\n",
    "max_depth = c(5,2,10)),\n",
    "n_folds = 3,\n",
    "scoring = c('accuracy','auc'))"
   ]
  },
  {
   "cell_type": "markdown",
   "metadata": {},
   "source": [
    "new() method Arguments:\n",
    "trainer superml trainer object, could be either XGBTrainer, RFTrainer, NBTrainer etc.\n",
    "parameters list, a list of parameters to tune\n",
    "n_folds integer, number of folds to use to split the train data\n",
    "scoring character, scoring metric used to evaluate the best model, multiple values can be provided. currently supports: auc, accuracy, mse, rmse, logloss, mae, f1, precision, recall\n"
   ]
  },
  {
   "cell_type": "code",
   "execution_count": 86,
   "metadata": {
    "collapsed": true
   },
   "outputs": [
    {
     "name": "stderr",
     "output_type": "stream",
     "text": [
      "Warning message in data(\"training\"):\n",
      "\"data set 'training' not found\""
     ]
    },
    {
     "name": "stdout",
     "output_type": "stream",
     "text": [
      "[1] \"entering grid search\"\n",
      "[1] \"In total, 3 models will be trained\"\n"
     ]
    }
   ],
   "source": [
    "rf <- RFTrainer$new()\n",
    "gst <-GridSearchCV$new(trainer = rf,\n",
    "parameters = list(n_estimators = c(100),\n",
    "max_depth = c(5,2,10)),\n",
    "n_folds = 3,\n",
    "scoring = c('accuracy','auc'))\n",
    "data(\"train_l\")\n",
    "gst$fit(train_l, \"target\")"
   ]
  },
  {
   "cell_type": "code",
   "execution_count": 62,
   "metadata": {},
   "outputs": [
    {
     "data": {
      "text/html": [
       "90.57"
      ],
      "text/latex": [
       "90.57"
      ],
      "text/markdown": [
       "90.57"
      ],
      "text/plain": [
       "[1] 90.57"
      ]
     },
     "metadata": {},
     "output_type": "display_data"
    }
   ],
   "source": [
    "gst$accuracy"
   ]
  },
  {
   "cell_type": "code",
   "execution_count": 63,
   "metadata": {
    "scrolled": true
   },
   "outputs": [
    {
     "data": {
      "text/html": [
       "71.58"
      ],
      "text/latex": [
       "71.58"
      ],
      "text/markdown": [
       "71.58"
      ],
      "text/plain": [
       "[1] 71.58"
      ]
     },
     "metadata": {},
     "output_type": "display_data"
    }
   ],
   "source": [
    "gst$auc"
   ]
  },
  {
   "cell_type": "code",
   "execution_count": 68,
   "metadata": {},
   "outputs": [],
   "source": [
    "testing$ps_ind_11_bin <- NULL \n",
    "testing$ps_ind_12_bin <- NULL \n",
    "testing$ps_ind_08_bin <- NULL \n",
    "testing$ps_ind_09_bin <- NULL "
   ]
  },
  {
   "cell_type": "markdown",
   "metadata": {},
   "source": [
    "##### Default logistic search without deleted features"
   ]
  },
  {
   "cell_type": "code",
   "execution_count": 64,
   "metadata": {},
   "outputs": [],
   "source": [
    "logmod_second <- glm(target ~ . - id, data = training, family = binomial(link = 'logit'))"
   ]
  },
  {
   "cell_type": "code",
   "execution_count": 69,
   "metadata": {},
   "outputs": [],
   "source": [
    "preds <- predict(logmod_second, newdata = testing, type = \"response\")"
   ]
  },
  {
   "cell_type": "code",
   "execution_count": 72,
   "metadata": {},
   "outputs": [
    {
     "data": {
      "text/html": [
       "0.963425003516625"
      ],
      "text/latex": [
       "0.963425003516625"
      ],
      "text/markdown": [
       "0.963425003516625"
      ],
      "text/plain": [
       "[1] 0.963425"
      ]
     },
     "metadata": {},
     "output_type": "display_data"
    }
   ],
   "source": [
    "y_pred_num <- ifelse(preds > 0.2, 1, 0)\n",
    "y_pred <- factor(y_pred_num, levels=c(0, 1))\n",
    "y_act <- testing$target\n",
    "\n",
    "# Accuracy\n",
    "mean(y_pred == y_act)  "
   ]
  },
  {
   "cell_type": "code",
   "execution_count": 73,
   "metadata": {},
   "outputs": [],
   "source": [
    "ROCRpred_second = prediction(preds, testing$target)"
   ]
  },
  {
   "cell_type": "code",
   "execution_count": 74,
   "metadata": {},
   "outputs": [],
   "source": [
    "ROCRperf = performance(ROCRpred_second, \"tpr\", \"fpr\")"
   ]
  },
  {
   "cell_type": "code",
   "execution_count": 75,
   "metadata": {},
   "outputs": [
    {
     "data": {
      "image/png": "[encoded data removed]",
      "text/plain": [
       "plot without title"
      ]
     },
     "metadata": {},
     "output_type": "display_data"
    }
   ],
   "source": [
    "plot(ROCRperf, colorize=TRUE, print.cutoffs.at=seq(0,1,by=0.1), text.adj=c(-0.2,1.7))"
   ]
  },
  {
   "cell_type": "code",
   "execution_count": 80,
   "metadata": {},
   "outputs": [],
   "source": [
    "auc.tmp <- performance(ROCRpred_second,\"auc\");\n",
    "auc <- as.numeric(auc.tmp@y.values)"
   ]
  },
  {
   "cell_type": "code",
   "execution_count": 81,
   "metadata": {},
   "outputs": [
    {
     "data": {
      "text/html": [
       "0.618798376417172"
      ],
      "text/latex": [
       "0.618798376417172"
      ],
      "text/markdown": [
       "0.618798376417172"
      ],
      "text/plain": [
       "[1] 0.6187984"
      ]
     },
     "metadata": {},
     "output_type": "display_data"
    }
   ],
   "source": [
    "auc"
   ]
  },
  {
   "cell_type": "code",
   "execution_count": 87,
   "metadata": {},
   "outputs": [
    {
     "data": {
      "text/plain": [
       "   \n",
       "     FALSE   TRUE\n",
       "  0 454543   4427\n",
       "  1  16866    473"
      ]
     },
     "metadata": {},
     "output_type": "display_data"
    },
    {
     "data": {
      "image/png": "[encoded data removed]",
      "text/plain": [
       "plot without title"
      ]
     },
     "metadata": {},
     "output_type": "display_data"
    }
   ],
   "source": [
    "# Use 'scale' to normalize\n",
    "table(testing$target, preds > 0.1)\n",
    "\n",
    "data <- as.matrix(table(testing$target, preds > 0.1))\n",
    "heatmap(data, scale=\"column\")"
   ]
  },
  {
   "cell_type": "code",
   "execution_count": null,
   "metadata": {},
   "outputs": [],
   "source": []
  }
 ],
 "metadata": {
  "kernelspec": {
   "display_name": "R",
   "language": "R",
   "name": "ir"
  },
  "language_info": {
   "codemirror_mode": "r",
   "file_extension": ".r",
   "mimetype": "text/x-r-source",
   "name": "R",
   "pygments_lexer": "r",
   "version": "3.6.1"
  }
 },
 "nbformat": 4,
 "nbformat_minor": 2
}
